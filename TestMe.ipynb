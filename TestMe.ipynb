{
  "nbformat": 4,
  "nbformat_minor": 0,
  "metadata": {
    "colab": {
      "provenance": [],
      "authorship_tag": "ABX9TyNiJ0MD7X4lVDvV6kAeVFHh",
      "include_colab_link": true
    },
    "kernelspec": {
      "name": "python3",
      "display_name": "Python 3"
    },
    "language_info": {
      "name": "python"
    }
  },
  "cells": [
    {
      "cell_type": "markdown",
      "metadata": {
        "id": "view-in-github",
        "colab_type": "text"
      },
      "source": [
        "<a href=\"https://colab.research.google.com/github/Sahar-Zi/Medical-Speech/blob/main/TestMe.ipynb\" target=\"_parent\"><img src=\"https://colab.research.google.com/assets/colab-badge.svg\" alt=\"Open In Colab\"/></a>"
      ]
    },
    {
      "cell_type": "code",
      "execution_count": null,
      "metadata": {
        "id": "ka2yFz_Prgv-"
      },
      "outputs": [],
      "source": [
        "# Install the nbimporter package if it's not already installed\n",
        "!pip install nbimporter\n",
        "\n",
        "# Import nbimporter\n",
        "import nbimporter\n",
        "\n",
        "# Import your classes\n",
        "from Classes import EDAClass, ModelingClass\n",
        "\n",
        "testing_class = EDAObject(filepath = \"overview-of-recordings.csv\", audio_dir = '/content/drive/MyDrive/Medical Speech Recordings/', binary_outcome=True)\n",
        "testing_class.get_data().head()"
      ]
    }
  ]
}