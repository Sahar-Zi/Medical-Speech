{
 "cells": [
  {
   "cell_type": "markdown",
   "metadata": {
    "colab_type": "text",
    "id": "view-in-github"
   },
   "source": [
    "<a href=\"https://colab.research.google.com/github/Sahar-Zi/Medical-Speech/blob/main/TestMe.ipynb\" target=\"_parent\"><img src=\"https://colab.research.google.com/assets/colab-badge.svg\" alt=\"Open In Colab\"/></a>"
   ]
  },
  {
   "cell_type": "code",
   "execution_count": 5,
   "metadata": {
    "id": "ka2yFz_Prgv-"
   },
   "outputs": [
    {
     "name": "stdout",
     "output_type": "stream",
     "text": [
      "Requirement already satisfied: nbimporter in c:\\users\\97252\\anaconda3\\lib\\site-packages (0.3.4)\n"
     ]
    },
    {
     "ename": "SyntaxError",
     "evalue": "invalid syntax (Classes.py, line 72)",
     "output_type": "error",
     "traceback": [
      "Traceback \u001b[1;36m(most recent call last)\u001b[0m:\n",
      "  File \u001b[0;32m\"C:\\Users\\97252\\anaconda3\\lib\\site-packages\\IPython\\core\\interactiveshell.py\"\u001b[0m, line \u001b[0;32m3418\u001b[0m, in \u001b[0;35mrun_code\u001b[0m\n    exec(code_obj, self.user_global_ns, self.user_ns)\n",
      "\u001b[1;36m  File \u001b[1;32m\"<ipython-input-5-8a44b8da3b65>\"\u001b[1;36m, line \u001b[1;32m8\u001b[1;36m, in \u001b[1;35m<module>\u001b[1;36m\u001b[0m\n\u001b[1;33m    from Classes import EDAClass, ModelingClass\u001b[0m\n",
      "\u001b[1;36m  File \u001b[1;32m\"C:\\Users\\97252\\מסמכים\\Uni studies\\2023-2024\\סמסטר ב\\Statistical Learning Theory\\Medical-Speech\\Classes.py\"\u001b[1;36m, line \u001b[1;32m72\u001b[0m\n\u001b[1;33m    -m pip install wordcloud\u001b[0m\n\u001b[1;37m       ^\u001b[0m\n\u001b[1;31mSyntaxError\u001b[0m\u001b[1;31m:\u001b[0m invalid syntax\n"
     ]
    }
   ],
   "source": [
    "# Install the nbimporter package if it's not already installed\n",
    "!pip install nbimporter\n",
    "\n",
    "# Import nbimporter\n",
    "import nbimporter\n",
    "\n",
    "# Import your classes\n",
    "from Classes import EDAClass, ModelingClass\n",
    "\n",
    "testing_class = EDAObject(filepath = \"overview-of-recordings.csv\", audio_dir = '/content/drive/MyDrive/Medical Speech Recordings/', binary_outcome=True)\n",
    "testing_class.get_data().head()"
   ]
  },
  {
   "cell_type": "code",
   "execution_count": null,
   "metadata": {},
   "outputs": [],
   "source": []
  }
 ],
 "metadata": {
  "colab": {
   "authorship_tag": "ABX9TyNiJ0MD7X4lVDvV6kAeVFHh",
   "include_colab_link": true,
   "provenance": []
  },
  "kernelspec": {
   "display_name": "Python 3",
   "language": "python",
   "name": "python3"
  },
  "language_info": {
   "codemirror_mode": {
    "name": "ipython",
    "version": 3
   },
   "file_extension": ".py",
   "mimetype": "text/x-python",
   "name": "python",
   "nbconvert_exporter": "python",
   "pygments_lexer": "ipython3",
   "version": "3.8.5"
  }
 },
 "nbformat": 4,
 "nbformat_minor": 1
}
