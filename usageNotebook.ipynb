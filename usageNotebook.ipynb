# Install the nbimporter package if it's not already installed
!pip install nbimporter

# Import nbimporter
import nbimporter

# Import your classes
from Classes import EDAClass, ModelingClass

testing_class = EDAObject(filepath = "overview-of-recordings.csv", audio_dir = '/content/drive/MyDrive/Medical Speech Recordings/', binary_outcome=True)
testing_class.get_data().head()
